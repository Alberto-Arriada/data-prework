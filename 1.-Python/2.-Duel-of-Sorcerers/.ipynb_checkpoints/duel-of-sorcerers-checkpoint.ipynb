{
 "cells": [
  {
   "cell_type": "markdown",
   "metadata": {},
   "source": [
    "<img src=\"https://bit.ly/2VnXWr2\" width=\"100\" align=\"left\">"
   ]
  },
  {
   "cell_type": "markdown",
   "metadata": {},
   "source": [
    "# Duel of Sorcerers\n",
    "You are witnessing an epic battle between two powerful sorcerers: Gandalf and Saruman. Each sorcerer has 10 spells of variable power in their mind and they are going to throw them one after the other. The winner of the duel will be the one who wins more of those clashes between spells. Spells are represented as a list of 10 integers whose value equals the power of the spell.\n",
    "```\n",
    "gandalf = [10, 11, 13, 30, 22, 11, 10, 33, 22, 22]\n",
    "saruman = [23, 66, 12, 43, 12, 10, 44, 23, 12, 17]\n",
    "```\n",
    "For example:\n",
    "- The first clash is won by Saruman: 10 against 23.\n",
    "- The second clash is won by Saruman: 11 against 66.\n",
    "- ...\n",
    "\n",
    "You will create two variables, one for each sorcerer, where the sum of clashes won will be stored. Depending on which variable is greater at the end of the duel, you will show one of the following three results on the screen:\n",
    "* Gandalf wins\n",
    "* Saruman wins\n",
    "* Tie\n",
    "\n",
    "<img src=\"images/content_lightning_bolt_big.jpg\" width=\"400\">"
   ]
  },
  {
   "cell_type": "markdown",
   "metadata": {},
   "source": [
    "## Tools\n",
    "You don't necessarily need to use all the tools. Maybe you opt to use some of them or completely different ones, they are given to help you shape the exercise. Programming exercises can be solved in many different ways.\n",
    "\n",
    "1. Data structures: **lists, dictionaries**\n",
    "2. Loop: **for loop**\n",
    "3. Conditional statements: **if-elif-else**\n",
    "4. Functions: **range(), len(), print()**\n",
    "\n",
    "## Tasks\n",
    "\n",
    "#### 1. Create two variables called `gandalf` and `saruman` and assign them the spell power lists. Create a variable called `spells` to store the number of spells that the sorcerers cast. "
   ]
  },
  {
   "cell_type": "code",
   "execution_count": 123,
   "metadata": {},
   "outputs": [],
   "source": [
    "Spells = 0\n",
    "Gandalf = [10, 11, 13, 30, 22, 11, 10, 33, 22, 22]\n",
    "Saruman = [23, 66, 12, 43, 12, 10, 44, 23, 12, 17]"
   ]
  },
  {
   "cell_type": "markdown",
   "metadata": {},
   "source": [
    "#### 2. Create two variables called `gandalf_wins` and `saruman_wins`. Set both of them to 0. \n",
    "You will use these variables to count the number of clashes each sorcerer wins. "
   ]
  },
  {
   "cell_type": "code",
   "execution_count": 124,
   "metadata": {},
   "outputs": [],
   "source": [
    "gandalf_wins = 0\n",
    "saruman_wins = 0\n",
    "ties = 0\n",
    "total_clashes = len(Gandalf)"
   ]
  },
  {
   "cell_type": "markdown",
   "metadata": {},
   "source": [
    "#### 3. Using the lists of spells of both sorcerers, update variables `gandalf_wins` and `saruman_wins` to count the number of times each sorcerer wins a clash. "
   ]
  },
  {
   "cell_type": "code",
   "execution_count": 125,
   "metadata": {},
   "outputs": [],
   "source": [
    "while Spells < total_clashes:\n",
    "    if Gandalf[Spells] == Saruman[Spells]:\n",
    "        ties = ties + 1\n",
    "    elif Gandalf[Spells] < Saruman[Spells]:\n",
    "        saruman_wins = saruman_wins + 1\n",
    "    else:\n",
    "        gandalf_wins = gandalf_wins + 1\n",
    "\n",
    "    Spells += 1\n",
    "\n",
    "\n",
    "\n"
   ]
  },
  {
   "cell_type": "markdown",
   "metadata": {},
   "source": [
    "#### 4. Who won the battle?\n",
    "Print `Gandalf wins`, `Saruman wins` or `Tie` depending on the result. "
   ]
  },
  {
   "cell_type": "code",
   "execution_count": 127,
   "metadata": {},
   "outputs": [
    {
     "name": "stdout",
     "output_type": "stream",
     "text": [
      "\n",
      "The final result is Gandalf won 6 of 10 battles - Saruman won 4 of 10 battles.\n",
      "\n",
      "Gandalf won the battle!\n"
     ]
    }
   ],
   "source": [
    "print(\"\\nThe final result is Gandalf won %d of %d battles - Saruman won %d of %d battles.\" % (gandalf_wins, total_clashes, saruman_wins, total_clashes))\n",
    "if saruman_wins < gandalf_wins:\n",
    "    print(\"\\nGandalf won the battle!\")\n",
    "elif saruman_wins > gandalf_wins:\n",
    "    print(\"\\nSaruman won the battle!\")\n",
    "else:\n",
    "    print(\"\\nThe battle ends with a tie!\")"
   ]
  },
  {
   "cell_type": "markdown",
   "metadata": {},
   "source": [
    "## Bonus\n",
    "\n",
    "In this bonus challenge, you'll need to check the winner of the battle but this time, a sorcerer wins if he succeeds in winning 3 spell clashes in a row.\n",
    "\n",
    "Also, the spells now have a name and there is a dictionary that associates that name to a power.\n",
    "\n",
    "```\n",
    "POWER = {\n",
    "    'Fireball': 50, \n",
    "    'Lightning bolt': 40, \n",
    "    'Magic arrow': 10, \n",
    "    'Black Tentacles': 25, \n",
    "    'Contagion': 45\n",
    "}\n",
    "\n",
    "gandalf = ['Fireball', 'Lightning bolt', 'Lightning bolt', 'Magic arrow', 'Fireball', \n",
    "           'Magic arrow', 'Lightning bolt', 'Fireball', 'Fireball', 'Fireball']\n",
    "saruman = ['Contagion', 'Contagion', 'Black Tentacles', 'Fireball', 'Black Tentacles', \n",
    "           'Lightning bolt', 'Magic arrow', 'Contagion', 'Magic arrow', 'Magic arrow']\n",
    "```\n",
    "\n",
    "#### 1. Create variables `POWER`, `gandalf` and `saruman` as seen above. Create a variable called `spells` to store the number of spells that the sorcerers cast. "
   ]
  },
  {
   "cell_type": "code",
   "execution_count": 19,
   "metadata": {},
   "outputs": [],
   "source": [
    "POWER = {\n",
    "    'Fireball': 50, \n",
    "    'Lightning bolt': 40, \n",
    "    'Magic arrow': 10, \n",
    "    'Black Tentacles': 25, \n",
    "    'Contagion': 45\n",
    "}\n",
    "\n",
    "gandalf = ['Fireball', 'Lightning bolt', 'Lightning bolt', 'Magic arrow', 'Fireball', \n",
    "           'Magic arrow', 'Lightning bolt', 'Fireball', 'Fireball', 'Fireball']\n",
    "\n",
    "saruman = ['Contagion', 'Contagion', 'Black Tentacles', 'Fireball', 'Black Tentacles', \n",
    "           'Lightning bolt', 'Magic arrow', 'Contagion', 'Magic arrow', 'Magic arrow']\n",
    "\n",
    "spells = 0"
   ]
  },
  {
   "cell_type": "markdown",
   "metadata": {},
   "source": [
    "#### 2. Create two variables called `gandalf_wins` and `saruman_wins`. Set both of them to 0. "
   ]
  },
  {
   "cell_type": "code",
   "execution_count": 20,
   "metadata": {},
   "outputs": [],
   "source": [
    "gandalf_wins = 0\n",
    "saruman_wins = 0\n",
    "ties = 0\n",
    "gandalf_total_wins=0\n",
    "saruman_total_wins=0\n",
    "total_ties=0\n",
    "total_clashes=len(gandalf)"
   ]
  },
  {
   "cell_type": "markdown",
   "metadata": {},
   "source": [
    "#### 3. Create two variables called `gandalf_power` and `saruman_power` to store the list of spell powers of each sorcerer."
   ]
  },
  {
   "cell_type": "code",
   "execution_count": 21,
   "metadata": {},
   "outputs": [],
   "source": [
    "saruman_power = []\n",
    "gandalf_power = []"
   ]
  },
  {
   "cell_type": "markdown",
   "metadata": {},
   "source": [
    "#### 4. The battle starts! Using the variables you've created above, code the execution of spell clashes. Remember that a sorcerer wins if he succeeds in winning 3 spell clashes in a row. \n",
    "If a clash ends up in a tie, the counter of wins in a row is not restarted to 0. Remember to print who is the winner of the battle. "
   ]
  },
  {
   "cell_type": "code",
   "execution_count": 22,
   "metadata": {},
   "outputs": [
    {
     "name": "stdout",
     "output_type": "stream",
     "text": [
      "\n",
      "\t  THE WINNER OF THE BATTLE IS GANDALF BECAUSE HE WON CLASHES NUMBER 7 , 8 and 9 IN A ROW!\n",
      "\n",
      "\n",
      "The final result of the competition is:\n",
      "\n",
      "\t- Gandalf total wins: 6\n",
      "\t- Saruman total wins: 3\n",
      "\t- Total draws: 0\n"
     ]
    }
   ],
   "source": [
    "while spells < total_clashes:\n",
    "    if gandalf_wins>=3|saruman_wins>=3:\n",
    "        break\n",
    "    \n",
    "    elif POWER[gandalf[spells]]==POWER[saruman[spells]]:\n",
    "        ties += 1\n",
    "        total_ties += 1\n",
    "    \n",
    "    elif POWER[gandalf[spells]]<POWER[saruman[spells]]:\n",
    "        saruman_wins += 1\n",
    "        saruman_total_wins+=1\n",
    "        gandalf_wins = 0\n",
    "    \n",
    "    else:\n",
    "        gandalf_wins += 1\n",
    "        gandalf_total_wins+=1\n",
    "        saruman_wins = 0\n",
    "    saruman_power.append(POWER[saruman[spells]])\n",
    "    gandalf_power.append(POWER[gandalf[spells]])\n",
    "    spells+=1\n",
    "\n",
    "if gandalf_wins > saruman_wins:\n",
    "    print(\"\\n\\t  THE WINNER OF THE BATTLE IS GANDALF BECAUSE HE WON CLASHES NUMBER\", str(spells-2),',', str(spells-1),'and',str(spells),'IN A ROW!')\n",
    "elif gandalf_wins < saruman_wins:\n",
    "    print(\"THE WINNER OF THE BATTLE IS THE EVIL SARUMAN BECAUSE HE WON CLASHES NUMBER\", str(spells-2),',', str(spells-1),'and',str(spells),'IN A ROW!')\n",
    "else:\n",
    "    print(\"THERE IS NOT A WINNER. WE NEED MORE CLASHES!\")\n",
    "\n",
    "    \n",
    "print(\"\\n\\nThe final result of the competition is:\")\n",
    "print(\"\\n\\t- Gandalf total wins: %d\" % gandalf_total_wins)\n",
    "print(\"\\t- Saruman total wins: %d\" % saruman_total_wins)\n",
    "print(\"\\t- Total draws: %d\" % ties)\n",
    "\n"
   ]
  },
  {
   "cell_type": "markdown",
   "metadata": {},
   "source": [
    "#### 5. Find the average spell power of Gandalf and Saruman. "
   ]
  },
  {
   "cell_type": "code",
   "execution_count": 23,
   "metadata": {},
   "outputs": [
    {
     "name": "stdout",
     "output_type": "stream",
     "text": [
      "The averages spell powers of Gandalf and Saruman are 37.78 and 32.78 ,respectively.\n"
     ]
    }
   ],
   "source": [
    "avg_gandalf=round(sum(gandalf_power)/spells,2)\n",
    "avg_saruman=round(sum(saruman_power)/spells,2)\n",
    "print('The averages spell powers of Gandalf and Saruman are', avg_gandalf, 'and',avg_saruman,',respectively.')"
   ]
  },
  {
   "cell_type": "markdown",
   "metadata": {},
   "source": [
    "#### 6. Find the standard deviation of the spell power of Gandalf and Saruman. "
   ]
  },
  {
   "cell_type": "code",
   "execution_count": 24,
   "metadata": {},
   "outputs": [
    {
     "name": "stdout",
     "output_type": "stream",
     "text": [
      "The standard deviations of spell powers of Gandalf and Saruman are 15.48 and 14.74 ,respectively.\n"
     ]
    }
   ],
   "source": [
    "g=0\n",
    "s=0\n",
    "for element_g in gandalf_power:\n",
    "    g+=(element_g-avg_gandalf)**2\n",
    "\n",
    "for element_s in saruman_power:\n",
    "    s+=(element_s-avg_saruman)**2\n",
    "var_g=g/spells\n",
    "var_s=s/spells\n",
    "\n",
    "SD_saruman=round(var_s**.5,2)\n",
    "SD_gandalf=round(var_g**.5,2)\n",
    "\n",
    "print('The standard deviations of spell powers of Gandalf and Saruman are', SD_gandalf, 'and',SD_saruman,',respectively.')\n"
   ]
  },
  {
   "cell_type": "code",
   "execution_count": null,
   "metadata": {},
   "outputs": [],
   "source": []
  }
 ],
 "metadata": {
  "kernelspec": {
   "display_name": "Python 3",
   "language": "python",
   "name": "python3"
  },
  "language_info": {
   "codemirror_mode": {
    "name": "ipython",
    "version": 3
   },
   "file_extension": ".py",
   "mimetype": "text/x-python",
   "name": "python",
   "nbconvert_exporter": "python",
   "pygments_lexer": "ipython3",
   "version": "3.7.4"
  }
 },
 "nbformat": 4,
 "nbformat_minor": 2
}
